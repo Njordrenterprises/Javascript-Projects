{
 "cells": [
  {
   "cell_type": "code",
   "execution_count": null,
   "id": "bb1cc2bd-7013-4f64-a6d3-41d713f2202e",
   "metadata": {},
   "outputs": [],
   "source": [
    "from openai import OpenAI\n",
    "from os import getenv\n",
    "\n",
    "# gets API Key from environment variable OPENAI_API_KEY\n",
    "client = OpenAI(\n",
    "  base_url=\"https://openrouter.ai/api/v1\",\n",
    "  api_key=getenv(\"OPENROUTER_API_KEY\"),\n",
    ")\n",
    "\n",
    "completion = client.chat.completions.create(\n",
    "  extra_headers={\n",
    "    \"HTTP-Referer\": $YOUR_SITE_URL, # Optional, for including your app on openrouter.ai rankings.\n",
    "    \"X-Title\": $YOUR_APP_NAME, # Optional. Shows in rankings on openrouter.ai.\n",
    "  },\n",
    "  model=\"mistralai/mixtral-8x7b-instruct\",\n",
    "  messages=[\n",
    "    {\n",
    "      \"role\": \"user\",\n",
    "      \"content\": \"Say this is a test\",\n",
    "    },\n",
    "  ],\n",
    ")\n",
    "print(completion.choices[0].message.content)"
   ]
  }
 ],
 "metadata": {
  "kernelspec": {
   "display_name": "Python 3 (ipykernel)",
   "language": "python",
   "name": "python3"
  },
  "language_info": {
   "codemirror_mode": {
    "name": "ipython",
    "version": 3
   },
   "file_extension": ".py",
   "mimetype": "text/x-python",
   "name": "python",
   "nbconvert_exporter": "python",
   "pygments_lexer": "ipython3",
   "version": "3.8.18"
  }
 },
 "nbformat": 4,
 "nbformat_minor": 5
}
