{
 "cells": [
  {
   "cell_type": "code",
   "execution_count": 13,
   "id": "bb1cc2bd-7013-4f64-a6d3-41d713f2202e",
   "metadata": {},
   "outputs": [
    {
     "name": "stdout",
     "output_type": "stream",
     "text": [
      "Here's the last code snippet I wrote:\n",
      "\n",
      "```python\n",
      "def calculate_average(numbers):\n",
      "    total = sum(numbers)\n",
      "    average = total / len(numbers)\n",
      "    return average\n",
      "```\n",
      "\n",
      "This function calculates the average of a list of numbers.\n"
     ]
    }
   ],
   "source": [
    "from openai import OpenAI\n",
    "import os\n",
    "from dotenv import load_dotenv, find_dotenv\n",
    "load_dotenv(find_dotenv(), override=True)\n",
    "\n",
    "# gets API Key from environment variable OPENAI_API_KEY\n",
    "client = OpenAI(\n",
    "  base_url=\"https://openrouter.ai/api/v1\",\n",
    "  api_key=os.environ.get(\"OPENROUTER_API_KEY\"),\n",
    ")\n",
    "\n",
    "completion = client.chat.completions.create(\n",
    "  #extra_headers={\n",
    "   # \"HTTP-Referer\": $YOUR_SITE_URL, # Optional, for including your app on openrouter.ai rankings.\n",
    "   # \"X-Title\": $YOUR_APP_NAME, # Optional. Shows in rankings on openrouter.ai.\n",
    " # },\n",
    "  model=\"mistralai/mixtral-8x7b-instruct\",\n",
    "  messages=[\n",
    "    {\n",
    "      \"role\": \"user\",\n",
    "      \"content\": \"Give me the code you last wrote\",\n",
    "    },\n",
    "  ],\n",
    ")\n",
    "print(completion.choices[0].message.content)"
   ]
  },
  {
   "cell_type": "code",
   "execution_count": null,
   "id": "3f0c6a33-f9c1-4bb2-8d92-1731f0f81c9a",
   "metadata": {},
   "outputs": [],
   "source": []
  },
  {
   "cell_type": "code",
   "execution_count": null,
   "id": "496ad409-d673-4b06-9362-30cb8260e140",
   "metadata": {},
   "outputs": [],
   "source": []
  }
 ],
 "metadata": {
  "kernelspec": {
   "display_name": "Python 3 (ipykernel)",
   "language": "python",
   "name": "python3"
  },
  "language_info": {
   "codemirror_mode": {
    "name": "ipython",
    "version": 3
   },
   "file_extension": ".py",
   "mimetype": "text/x-python",
   "name": "python",
   "nbconvert_exporter": "python",
   "pygments_lexer": "ipython3",
   "version": "3.8.18"
  }
 },
 "nbformat": 4,
 "nbformat_minor": 5
}
